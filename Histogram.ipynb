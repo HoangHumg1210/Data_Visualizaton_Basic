{
 "cells": [
  {
   "cell_type": "markdown",
   "id": "e574a7c6-30f3-4d5c-b1c4-04c7f1a9e6e0",
   "metadata": {},
   "source": [
    "# Hướng dẫn toàn diện về Histogram trong Matplotlib\n",
    "\n",
    "## 1. Giới thiệu về Histogram\n",
    "\n",
    "**Histogram** (biểu đồ tần suất) là một biểu đồ thống kê dùng để hiển thị phân phối tần suất của một tập dữ liệu liên tục. Nó chia dữ liệu thành các khoảng (bins) và đếm số lượng quan sát trong mỗi khoảng.\n",
    "\n",
    "\n",
    "\n",
    "###  Khi nào sử dụng Histogram\n",
    "✅ **Nên dùng khi:**\n",
    "- Dữ liệu liên tục (continuous data)\n",
    "- Muốn hiểu phân phối của một biến\n",
    "- bins là khoảng chia dữ liệu\n",
    "- cột y sẽ dựa vào số dữ liệu đc chia trong khoảng  VD: data = [1, 2, 2, 3, 3, 3, 4, 5, 5, 6]\n",
    "- Với bins=3, matplotlib tự chia khoảng:\n",
    " + Bin 1: 1.0–2.67 → chứa 1, 2, 2 → Y = 3\n",
    "\n",
    " + Bin 2: 2.67–4.33 → chứa 3, 3, 3, 4 → Y = 4\n",
    "\n",
    " + Bin 3: 4.33–6.0 → chứa 5, 5, 6 → Y = 3\n",
    "❌ Quá nhiều bins\n",
    "Mỗi cột có rất ít (thậm chí chỉ 1) giá trị.\n",
    "\n",
    "Biểu đồ trở nên nhiễu, rối mắt.\n",
    "\n",
    "Khó nhận ra xu hướng tổng thể vì có quá nhiều chi tiết nhỏ.\n",
    "\n",
    "👉 Ví dụ: Với dữ liệu 100 điểm, mà chọn 100 bins → gần như mỗi giá trị có 1 cột → không nhìn thấy phân bố.\n",
    "\n",
    "❌ Quá ít bins\n",
    "Mỗi bin gom quá nhiều giá trị → mất chi tiết.\n",
    "\n",
    "Không phát hiện được các đặc điểm quan trọng như các đỉnh, khoảng phân bố, bất đối xứng,...\n",
    "\n",
    "Có thể dẫn đến hiểu sai phân bố dữ liệu.\n",
    "\n",
    "### Histogram khác Bar Chart như thế nào?\n",
    "| Histogram | Bar Chart |\n",
    "|-----------|-----------|\n",
    "| Dữ liệu liên tục | Dữ liệu rời rạc/categorical |\n",
    "| Các cột liền kề nhau | Các cột có khoảng cách |\n",
    "| Trục X là số | Trục X là category |\n",
    "| Hiển thị phân phối | So sánh giá trị |\n",
    "\n",
    "## 2. Tại sao Histogram quan trọng?\n",
    "\n",
    "### 2.1 Các tác dụng chính\n",
    "- **Hiểu phân phối dữ liệu**: Normal, skewed, bimodal, uniform\n",
    "- **Phát hiện outliers**: Giá trị bất thường ở đuôi phân phối\n",
    "- **Kiểm tra giả định**: Nhiều thuật toán ML yêu cầu dữ liệu normal\n",
    "- **So sánh datasets**: Overlay nhiều histogram\n",
    "- **Xác định ngưỡng**: Threshold cho classification\n",
    "- **Quality control**: Kiểm tra sản phẩm có đạt tiêu chuẩn\n",
    "\n",
    "\n",
    "\n",
    "## 3. Cú pháp cơ bản\n",
    "\n",
    "```python\n",
    "import matplotlib.pyplot as plt\n",
    "import numpy as np\n",
    "\n",
    "# Cú pháp đơn giản\n",
    "plt.hist(data)\n",
    "\n",
    "# Cú pháp đầy đủ\n",
    "plt.hist(data, bins=10, range=None, density=False, weights=None,\n",
    "         cumulative=False, bottom=None, histtype='bar', align='mid',\n",
    "         orientation='vertical', rwidth=None, log=False, color=None,\n",
    "         label=None, alpha=None, edgecolor=None, linewidth=None)\n",
    "```\n",
    "\n",
    "## 4. Các thuộc tính chính\n",
    "\n",
    "### 4.1 Thuộc tính dữ liệu cơ bản\n",
    "| Thuộc tính | Mô tả | Giá trị | Ví dụ |\n",
    "|------------|-------|---------|-------|\n",
    "| `data` | Dữ liệu đầu vào (bắt buộc) | Array-like | `[1,2,3,4,5]` |\n",
    "| `bins` | Số lượng hoặc vị trí bins | Int hoặc array | `bins=20`, `bins=[0,5,10,15]` |\n",
    "| `range` | Phạm vi dữ liệu | Tuple | `range=(0, 100)` |\n",
    "\n",
    "### 4.2 Thuộc tính hiển thị\n",
    "| Thuộc tính | Mô tả | Giá trị | Ví dụ |\n",
    "|------------|-------|---------|-------|\n",
    "| `density` | Normalize thành density | Boolean | `density=True` |\n",
    "| `cumulative` | Histogram tích lũy | Boolean | `cumulative=True` |\n",
    "| `histtype` | Kiểu histogram | String | `'bar'`, `'step'`, `'stepfilled'` |\n",
    "| `orientation` | Hướng hiển thị | String | `'vertical'`, `'horizontal'` |\n",
    "\n",
    "### 4.3 Thuộc tính thẩm mỹ\n",
    "| Thuộc tính | Mô tả | Giá trị | Ví dụ |\n",
    "|------------|-------|---------|-------|\n",
    "| `color` | Màu sắc | Color | `'blue'`, `'#FF0000'` |\n",
    "| `alpha` | Độ trong suốt | 0.0-1.0 | `alpha=0.7` |\n",
    "| `edgecolor` | Màu viền | Color | `'black'`, `'white'` |\n",
    "| `linewidth` | Độ dày viền | Float | `linewidth=1.5` |\n",
    "| `rwidth` | Độ rộng tương đối của bars | 0.0-1.0 | `rwidth=0.8` |\n",
    "\n",
    "## 5. Các loại Histogram\n",
    "\n",
    "### 5.1 Basic Histogram\n",
    "```python\n",
    "# Histogram cơ bản\n",
    "plt.hist(data, bins=30, alpha=0.7, color='blue')\n",
    "plt.xlabel('Giá trị')\n",
    "plt.ylabel('Tần suất')\n",
    "plt.title('Phân phối dữ liệu')\n",
    "```\n",
    "\n",
    "### 5.2 Density Histogram \n",
    "```python\n",
    "# Histogram density (diện tích = 1)\n",
    "plt.hist(data, bins=30, density=True, alpha=0.7)\n",
    "plt.ylabel('Density')\n",
    "```\n",
    "\n",
    "### 5.3 Cumulative Histogram\n",
    "```python\n",
    "# Histogram tích lũy\n",
    "plt.hist(data, bins=30, cumulative=True, alpha=0.7)\n",
    "plt.ylabel('Cumulative Frequency')\n",
    "```\n",
    "\n",
    "### 5.4 Stepped Histogram\n",
    "```python\n",
    "# Histogram dạng step\n",
    "plt.hist(data, bins=30, histtype='step', linewidth=2)\n",
    "plt.hist(data, bins=30, histtype='stepfilled', alpha=0.5)\n",
    "```\n",
    "\n",
    "### 5.5 Horizontal Histogram\n",
    "```python\n",
    "# Histogram ngang\n",
    "plt.hist(data, bins=30, orientation='horizontal', alpha=0.7)\n",
    "plt.xlabel('Tần suất')\n",
    "plt.ylabel('Giá trị')\n",
    "```\n",
    "\n",
    "## 6. Lựa chọn số lượng Bins\n",
    "\n",
    "### 6.1 Các quy tắc phổ biến\n",
    "```python\n",
    "import numpy as np\n",
    "\n",
    "n = len(data)  # Số lượng data points\n",
    "\n",
    "# Sturges' Rule\n",
    "bins_sturges = int(np.ceil(np.log2(n) + 1))\n",
    "\n",
    "# Square Root Rule  \n",
    "bins_sqrt = int(np.ceil(np.sqrt(n)))\n",
    "\n",
    "# Rice Rule\n",
    "bins_rice = int(np.ceil(2 * n**(1/3)))\n",
    "\n",
    "# Freedman-Diaconis Rule\n",
    "q75, q25 = np.percentile(data, [75, 25])\n",
    "iqr = q75 - q25\n",
    "bin_width = 2 * iqr / (n**(1/3))\n",
    "bins_fd = int(np.ceil((data.max() - data.min()) / bin_width))\n",
    "```\n",
    "\n",
    "### 6.2 Hướng dẫn thực tế\n",
    "| Số lượng dữ liệu | Bins đề xuất | Lý do |\n",
    "|------------------|--------------|-------|\n",
    "| < 50 | 5-10 | Tránh noise |\n",
    "| 50-200 | 10-20 | Cân bằng detail vs noise |\n",
    "| 200-1000 | 20-50 | Hiển thị pattern tốt |\n",
    "| > 1000 | 50-100 | Chi tiết cao |\n",
    "\n",
    "\n",
    "\n",
    "## 12. Các lỗi thường gặp\n",
    "\n",
    "### 12.1 Quá nhiều hoặc quá ít bins\n",
    "**Vấn đề:**\n",
    "- Quá ít bins: Mất thông tin, không thấy pattern\n",
    "- Quá nhiều bins: Noisy, khó interpret\n",
    "\n",
    "**Giải pháp:**\n",
    "- Thử nhiều giá trị bins\n",
    "- Sử dụng công thức Sturges hoặc Freedman-Diaconis\n",
    "\n",
    "### 12.2 Không normalize khi so sánh\n",
    "**Vấn đề:** So sánh datasets có kích thước khác nhau\n",
    "**Giải pháp:** Sử dụng `density=True`\n",
    "\n",
    "### 12.3 Bỏ qua outliers\n",
    "**Vấn đề:** Outliers làm méo histogram\n",
    "**Giải pháp:** \n",
    "- Xử lý outliers trước\n",
    "- Hoặc plot riêng outliers\n",
    "\n",
    "### 12.4 Không thêm labels và title\n",
    "**Vấn đề:** Khó hiểu biểu đồ\n",
    "**Giải pháp:** Luôn thêm xlabel, ylabel, title\n",
    "\n",
    "## 15. Tóm tắt\n",
    "\n",
    "\n",
    "\n",
    "❌ **Không nên dùng khi:**\n",
    "- Dữ liệu categorical (dùng bar chart)\n",
    "- Dữ liệu time series (dùng line plot)\n",
    "- Muốn thấy mối quan hệ giữa 2 biến (dùng scatter plot)\n",
    "- Dữ liệu quá ít (<20 điểm)\n",
    "\n",
    "### 15.2 Checklist cho Histogram tốt\n",
    "- [ ] Chọn số bins phù hợp\n",
    "- [ ] Thêm xlabel, ylabel, title có ý nghĩa\n",
    "- [ ] Xử lý outliers nếu cần\n",
    "- [ ] Thêm thống kê quan trọng (mean, median)\n",
    "- [ ] Sử dụng colors và alpha hợp lý\n",
    "- [ ] Thêm grid nhẹ để dễ đọc\n",
    "- [ ] Normalize nếu so sánh nhiều datasets\n",
    "\n"
   ]
  },
  {
   "cell_type": "code",
   "execution_count": 4,
   "id": "03b0c740-44dd-4f9e-9376-af1d26d17355",
   "metadata": {},
   "outputs": [],
   "source": [
    "import pandas as pd\n",
    "import numpy as np \n",
    "import matplotlib.pyplot as plt"
   ]
  },
  {
   "cell_type": "code",
   "execution_count": 5,
   "id": "8a4fa6fa-d093-43d1-89ce-c9161859d540",
   "metadata": {},
   "outputs": [
    {
     "data": {
      "image/png": "[encoded data removed]",
      "text/plain": [
       "<Figure size 640x480 with 1 Axes>"
      ]
     },
     "metadata": {},
     "output_type": "display_data"
    }
   ],
   "source": [
    "data = np.random.randn(1000)\n",
    "\n",
    "plt.hist(\n",
    "    data,\n",
    "    bins = 20,\n",
    "    color = 'skyblue',\n",
    "    edgecolor = 'black'\n",
    ")\n",
    "\n",
    "plt.title(\"Bieu do Histogram\")\n",
    "plt.xlabel(\"Gia tri\")\n",
    "plt.ylabel('Tan suat')\n",
    "plt.show()          "
   ]
  },
  {
   "cell_type": "code",
   "execution_count": 12,
   "id": "bf97d775-8ecd-4b34-9404-eb5925a03645",
   "metadata": {},
   "outputs": [
    {
     "data": {
      "text/plain": [
       "array([ 16,  14,  18,  26,  37,   8,  39,  22,  38,  22,  28,   1,  29,\n",
       "        17,  16,  26,   1,  21,  39,  35,   5,  15,   2,   5,   3,  18,\n",
       "         2,  32,  13,  26,   2,  21,  25,   4,  20,  19,  18,   1,  28,\n",
       "        25,  39,  21,   3,   5,  11,   7,  37,  17,  24,  12,  18,   2,\n",
       "        21,  30,  29,  29,  33,  31,  23,  25,   9,  20,  36,   9,  17,\n",
       "        38,  37,  14,  39,  38,   5,  15,  19,  32,  13,   6,  31,  16,\n",
       "        37,  24,  14,   0,  33,   9,  28,  23,  13,  39,  34,  39,  30,\n",
       "        34,   1,  37,  35,  16,  22,   5,   3,  23,  28,   1,  15,  14,\n",
       "        31,  28,  12,   0,  38,  37,  38,  38,  35,   0,   9,   1,  12,\n",
       "         4,  38,   3,  30,  37,  40,   7,  23,  21,  12,  18,  24,  39,\n",
       "        37,  39,  11,   7,  22,  33,   4,  20,  25,   8,  94,  97,  82,\n",
       "        88,  83,  68,  43,  56,  50,  85,  55,  58,  72,  59,  56,  54,\n",
       "        55,  47,  46,  80,  96,  57,  75,  91,  75, 100,  83,  65,  63,\n",
       "        88,  76,  59,  50,  71,  46,  75,  50,  73,  77,  74,  50,  61,\n",
       "        52,  78,  42,  58,  69,  93,  58,  98, 100,  67,  82,  57,  43,\n",
       "        42,  94,  96,  59,  58,  55,  92,  86,  86,  92,  88,  56,  92,\n",
       "        94,  77,  77, 100,  93,  65,  79,  67,  43,  97,  57,  79,  54,\n",
       "        54,  42,  99,  93,  87,  76,  90,  41,  90,  51,  61,  49,  51,\n",
       "        61,  82,  76,  60,  68,  61,  86,  61,  42,  82,  49,  52,  71,\n",
       "        85,  45,  96,  87,  87,  47,  54,  56,  64,  86,  79,  54,  85,\n",
       "        54,  56,  95,  41,  73,  72,  58,  54,  81,  77,  96,  42,  69,\n",
       "        72,  49,  45,  46,  91,  89,  80], dtype=int32)"
      ]
     },
     "execution_count": 12,
     "metadata": {},
     "output_type": "execute_result"
    }
   ],
   "source": [
    "low_score = np.random.randint(0,41,140)\n",
    "hig_score = np.random.randint(41,101, 140)\n",
    "score = np.concatenate((low_score, hig_score))\n",
    "score"
   ]
  },
  {
   "cell_type": "code",
   "execution_count": 18,
   "id": "f260d3cc-adfa-47cb-8659-c801abc2770a",
   "metadata": {},
   "outputs": [
    {
     "data": {
      "text/html": [
       "<div>\n",
       "<style scoped>\n",
       "    .dataframe tbody tr th:only-of-type {\n",
       "        vertical-align: middle;\n",
       "    }\n",
       "\n",
       "    .dataframe tbody tr th {\n",
       "        vertical-align: top;\n",
       "    }\n",
       "\n",
       "    .dataframe thead th {\n",
       "        text-align: right;\n",
       "    }\n",
       "</style>\n",
       "<table border=\"1\" class=\"dataframe\">\n",
       "  <thead>\n",
       "    <tr style=\"text-align: right;\">\n",
       "      <th></th>\n",
       "      <th>score</th>\n",
       "    </tr>\n",
       "  </thead>\n",
       "  <tbody>\n",
       "    <tr>\n",
       "      <th>0</th>\n",
       "      <td>16</td>\n",
       "    </tr>\n",
       "    <tr>\n",
       "      <th>1</th>\n",
       "      <td>14</td>\n",
       "    </tr>\n",
       "    <tr>\n",
       "      <th>2</th>\n",
       "      <td>18</td>\n",
       "    </tr>\n",
       "    <tr>\n",
       "      <th>3</th>\n",
       "      <td>26</td>\n",
       "    </tr>\n",
       "    <tr>\n",
       "      <th>4</th>\n",
       "      <td>37</td>\n",
       "    </tr>\n",
       "    <tr>\n",
       "      <th>...</th>\n",
       "      <td>...</td>\n",
       "    </tr>\n",
       "    <tr>\n",
       "      <th>275</th>\n",
       "      <td>45</td>\n",
       "    </tr>\n",
       "    <tr>\n",
       "      <th>276</th>\n",
       "      <td>46</td>\n",
       "    </tr>\n",
       "    <tr>\n",
       "      <th>277</th>\n",
       "      <td>91</td>\n",
       "    </tr>\n",
       "    <tr>\n",
       "      <th>278</th>\n",
       "      <td>89</td>\n",
       "    </tr>\n",
       "    <tr>\n",
       "      <th>279</th>\n",
       "      <td>80</td>\n",
       "    </tr>\n",
       "  </tbody>\n",
       "</table>\n",
       "<p>280 rows × 1 columns</p>\n",
       "</div>"
      ],
      "text/plain": [
       "     score\n",
       "0       16\n",
       "1       14\n",
       "2       18\n",
       "3       26\n",
       "4       37\n",
       "..     ...\n",
       "275     45\n",
       "276     46\n",
       "277     91\n",
       "278     89\n",
       "279     80\n",
       "\n",
       "[280 rows x 1 columns]"
      ]
     },
     "execution_count": 18,
     "metadata": {},
     "output_type": "execute_result"
    }
   ],
   "source": [
    "df = pd.DataFrame({'score': score})\n",
    "df"
   ]
  },
  {
   "cell_type": "markdown",
   "id": "e4bda906-21ce-42f3-8dab-8390494d1c6b",
   "metadata": {},
   "source": [
    "**Median - Trung vị**:  Điểm chính giữa của dữ liệu. Nếu dữ liệu lẻ thì sẽ là điểm chính giữa, còn dữ liệu chẵn thì sẽ là trung bình cộng của 2 giá trị chính giữa\n",
    "\n",
    "**Std - Độ lệch chuẩn**: đo mức độ phân tán của dữ liệu quanh giá trị trung bình\n",
    "Nếu **std** nhỏ, các giá trị gần trung bình → dữ liệu ổn định.\n",
    "\n",
    "Nếu **std** lớn, các giá trị rải rác xa trung bình → dữ liệu biến động cao."
   ]
  },
  {
   "cell_type": "code",
   "execution_count": 126,
   "id": "1910b1c4-c4e4-41da-8aef-5621f62198fd",
   "metadata": {},
   "outputs": [
    {
     "data": {
      "text/plain": [
       "(0.0, 50.0)"
      ]
     },
     "execution_count": 126,
     "metadata": {},
     "output_type": "execute_result"
    },
    {
     "data": {
      "image/png": "[encoded data removed]",
      "text/plain": [
       "<Figure size 1000x600 with 1 Axes>"
      ]
     },
     "metadata": {},
     "output_type": "display_data"
    }
   ],
   "source": [
    "mean = df['score'].mean().round(2)\n",
    "median = df['score'].median() \n",
    "std = df['score'].std().round(2)\n",
    "\n",
    "plt.figure(figsize=(10,6))\n",
    "plt.axvline(mean, color = 'grey', linestyle = '--', linewidth = 1.3, label = f\"Trung binh: {mean}\")\n",
    "plt.axvline(median , color = 'r', linestyle = '--', linewidth = 1, label = f'Trung vi: {median}')\n",
    "# plt.axvline(std, color = 'b', linestyle = '--', linewidth = 1, label = f'Do lệch chuẩn: {std}')\n",
    "\n",
    "n, bins, patches = plt.hist(df['score'], bins = 'auto', color= 'skyblue', edgecolor = 'black')\n",
    "\n",
    "plt.text(mean +1  , max(n) * 0.8, f'Mean: {mean}', fontsize = 10, color = 'red',  rotation = 90)\n",
    "\n",
    "for i in range(len(bins) -1):\n",
    "    plt.text(bins[i] + 5, n[i] + 1 , str(n[i]), ha = 'center', va = 'bottom')\n",
    "\n",
    "plt.title(\"Phân phối điểm thi của sinh viên\")\n",
    "plt.xlabel(\"Điểm thi\", fontsize = 12)\n",
    "plt.legend()\n",
    "plt.ylabel(\"So luong hoc vien\")\n",
    "plt.ylim(0,50)"
   ]
  },
  {
   "cell_type": "code",
   "execution_count": 134,
   "id": "f6522c7e-1073-4bb4-841f-27aca57b7f41",
   "metadata": {},
   "outputs": [
    {
     "data": {
      "text/plain": [
       "array([35., 30., 34., 40., 21., 34., 16., 22., 23., 25.])"
      ]
     },
     "execution_count": 134,
     "metadata": {},
     "output_type": "execute_result"
    }
   ],
   "source": [
    "n"
   ]
  },
  {
   "cell_type": "code",
   "execution_count": 112,
   "id": "a22d18ce-7d0a-4bde-a012-884d45d81413",
   "metadata": {},
   "outputs": [
    {
     "data": {
      "text/plain": [
       "np.float64(10.0)"
      ]
     },
     "execution_count": 112,
     "metadata": {},
     "output_type": "execute_result"
    }
   ],
   "source": [
    "bins[1]"
   ]
  },
  {
   "cell_type": "code",
   "execution_count": 162,
   "id": "34b09b65-dcc1-4b20-9408-600dba5de87e",
   "metadata": {},
   "outputs": [
    {
     "data": {
      "text/plain": [
       "(0.0, 50.0)"
      ]
     },
     "execution_count": 162,
     "metadata": {},
     "output_type": "execute_result"
    },
    {
     "data": {
      "image/png": "[encoded data removed]",
      "text/plain": [
       "<Figure size 640x480 with 1 Axes>"
      ]
     },
     "metadata": {},
     "output_type": "display_data"
    }
   ],
   "source": [
    "mean = df['score'].mean().round()\n",
    "\n",
    "plt.axvline(x = mean, color = 'gray', label = f'Trung bình')\n",
    "plt.text(mean + 2, max(n), f'Mean: {mean}', color = 'r')\n",
    "n, bins, patches = plt.hist(df['score'], bins = 'auto', edgecolor = 'black', color = 'skyblue')\n",
    "\n",
    "\n",
    "for i in range(len(bins) -1):\n",
    "    plt.text((bins[i+1] + bins[i])/2, n[i] + 1, str(n[i]) , ha = 'center')\n",
    "\n",
    "\n",
    "plt.title(\"Phân phối điểm thi của sinh viên\")\n",
    "plt.xlabel(\"Điểm thi\", fontsize = 12)\n",
    "plt.legend()\n",
    "plt.ylabel(\"So luong hoc vien\")\n",
    "plt.ylim(0,50)"
   ]
  }
 ],
 "metadata": {
  "kernelspec": {
   "display_name": "Python 3 (ipykernel)",
   "language": "python",
   "name": "python3"
  },
  "language_info": {
   "codemirror_mode": {
    "name": "ipython",
    "version": 3
   },
   "file_extension": ".py",
   "mimetype": "text/x-python",
   "name": "python",
   "nbconvert_exporter": "python",
   "pygments_lexer": "ipython3",
   "version": "3.11.8"
  }
 },
 "nbformat": 4,
 "nbformat_minor": 5
}
